{
 "cells": [
  {
   "cell_type": "code",
   "execution_count": 3,
   "metadata": {
    "collapsed": true
   },
   "outputs": [],
   "source": [
    "characters = [\"alex\",\n",
    "\"alfred\",\n",
    "\"anita\",\n",
    "\"anne\",\n",
    "\"bernard\",\n",
    "\"bill\",\n",
    "\"charles\",\n",
    "\"claire\",\n",
    "\"david\",\n",
    "\"eric\",\n",
    "\"frans\",\n",
    "\"george\",\n",
    "\"herman\",\n",
    "\"joe\",\n",
    "\"maria\",\n",
    "\"max\",\n",
    "\"paul\",\n",
    "\"peter\",\n",
    "\"philip\",\n",
    "\"richard\",\n",
    "\"robert\",\n",
    "\"sam\",\n",
    "\"susan\",\n",
    "\"tom\"]"
   ]
  },
  {
   "cell_type": "code",
   "execution_count": 4,
   "metadata": {},
   "outputs": [
    {
     "data": {
      "text/plain": [
       "['alex',\n",
       " 'alfred',\n",
       " 'anita',\n",
       " 'anne',\n",
       " 'bernard',\n",
       " 'bill',\n",
       " 'charles',\n",
       " 'claire',\n",
       " 'david',\n",
       " 'eric',\n",
       " 'frans',\n",
       " 'george',\n",
       " 'herman',\n",
       " 'joe',\n",
       " 'maria',\n",
       " 'max',\n",
       " 'paul',\n",
       " 'peter',\n",
       " 'philip',\n",
       " 'richard',\n",
       " 'robert',\n",
       " 'sam',\n",
       " 'susan',\n",
       " 'tom']"
      ]
     },
     "execution_count": 4,
     "metadata": {},
     "output_type": "execute_result"
    }
   ],
   "source": [
    "characters"
   ]
  },
  {
   "cell_type": "code",
   "execution_count": 5,
   "metadata": {},
   "outputs": [
    {
     "data": {
      "text/plain": [
       "['a',\n",
       " 'a',\n",
       " 'a',\n",
       " 'a',\n",
       " 'b',\n",
       " 'b',\n",
       " 'c',\n",
       " 'c',\n",
       " 'd',\n",
       " 'e',\n",
       " 'f',\n",
       " 'g',\n",
       " 'h',\n",
       " 'j',\n",
       " 'm',\n",
       " 'm',\n",
       " 'p',\n",
       " 'p',\n",
       " 'p',\n",
       " 'r',\n",
       " 'r',\n",
       " 's',\n",
       " 's',\n",
       " 't']"
      ]
     },
     "execution_count": 5,
     "metadata": {},
     "output_type": "execute_result"
    }
   ],
   "source": [
    "first_letter = [s[0] for s in characters]\n",
    "first_letter"
   ]
  },
  {
   "cell_type": "code",
   "execution_count": 7,
   "metadata": {},
   "outputs": [
    {
     "data": {
      "text/plain": [
       "'g'"
      ]
     },
     "execution_count": 7,
     "metadata": {},
     "output_type": "execute_result"
    }
   ],
   "source": [
    "first_letter[11]"
   ]
  },
  {
   "cell_type": "markdown",
   "metadata": {},
   "source": [
    "binary search: \n",
    "\n",
    "- pick the middle element of the list\n",
    "- check if searched item is smaller or greater than middle element\n",
    "- select the sublist to which the searched element belongs"
   ]
  },
  {
   "cell_type": "code",
   "execution_count": 29,
   "metadata": {
    "collapsed": true
   },
   "outputs": [],
   "source": [
    "def binary_search(item, sorted_candidates):\n",
    "    \n",
    "    candidates = sorted_candidates.copy()\n",
    "    \n",
    "    while len(candidates) > 1:\n",
    "\n",
    "        middle_index = int(len(candidates) / 2)\n",
    "        print('middle index: {}'.format(middle_index))\n",
    "\n",
    "        pivot = middle_index\n",
    "        left_group = candidates[:pivot]\n",
    "        \n",
    "        print('Is item in group [{}, {}]?'.format(left_group[0], left_group[-1]))\n",
    "\n",
    "        if item in left_group:\n",
    "            candidates = left_group\n",
    "            print('yes!')\n",
    "        else:\n",
    "            candidates = candidates[pivot:]\n",
    "            print('no!')\n",
    "            \n",
    "        print('remaining candidates: {}'.format(candidates))\n",
    "        \n",
    "    return candidates"
   ]
  },
  {
   "cell_type": "code",
   "execution_count": 30,
   "metadata": {},
   "outputs": [
    {
     "name": "stdout",
     "output_type": "stream",
     "text": [
      "middle index: 12\n",
      "Is item in group [alex, george]?\n",
      "yes!\n",
      "remaining candidates: ['alex', 'alfred', 'anita', 'anne', 'bernard', 'bill', 'charles', 'claire', 'david', 'eric', 'frans', 'george']\n",
      "middle index: 6\n",
      "Is item in group [alex, bill]?\n",
      "yes!\n",
      "remaining candidates: ['alex', 'alfred', 'anita', 'anne', 'bernard', 'bill']\n",
      "middle index: 3\n",
      "Is item in group [alex, anita]?\n",
      "yes!\n",
      "remaining candidates: ['alex', 'alfred', 'anita']\n",
      "middle index: 1\n",
      "Is item in group [alex, alex]?\n",
      "no\n",
      "remaining candidates: ['alfred', 'anita']\n",
      "middle index: 1\n",
      "Is item in group [alfred, alfred]?\n",
      "yes!\n",
      "remaining candidates: ['alfred']\n"
     ]
    },
    {
     "data": {
      "text/plain": [
       "['alfred']"
      ]
     },
     "execution_count": 30,
     "metadata": {},
     "output_type": "execute_result"
    }
   ],
   "source": [
    "binary_search('alfred', characters)"
   ]
  },
  {
   "cell_type": "code",
   "execution_count": null,
   "metadata": {
    "collapsed": true
   },
   "outputs": [],
   "source": []
  }
 ],
 "metadata": {
  "kernelspec": {
   "display_name": "Python [conda root]",
   "language": "python",
   "name": "conda-root-py"
  },
  "language_info": {
   "codemirror_mode": {
    "name": "ipython",
    "version": 3
   },
   "file_extension": ".py",
   "mimetype": "text/x-python",
   "name": "python",
   "nbconvert_exporter": "python",
   "pygments_lexer": "ipython3",
   "version": "3.6.3"
  }
 },
 "nbformat": 4,
 "nbformat_minor": 2
}
